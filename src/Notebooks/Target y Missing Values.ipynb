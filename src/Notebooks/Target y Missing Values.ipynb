{
 "cells": [
  {
   "attachments": {},
   "cell_type": "markdown",
   "metadata": {},
   "source": [
    "# Target y Missing Values\n"
   ]
  },
  {
   "cell_type": "code",
   "execution_count": 16,
   "metadata": {},
   "outputs": [
    {
     "name": "stdout",
     "output_type": "stream",
     "text": [
      "x_train shape: (2579, 1024)\n",
      "y_train shape: (2579,)\n",
      "x_test shape: (645, 1024)\n",
      "y_test shape: (645,)\n"
     ]
    }
   ],
   "source": [
    "import numpy as np\n",
    "\n",
    "# Cargar los datos desde los archivos .npy\n",
    "x_train = np.load('data_train_processed/x_train.npy')\n",
    "y_train = np.load('data_train_processed/y_train.npy')\n",
    "x_test = np.load('data_test_processed/x_test.npy')\n",
    "y_test = np.load('data_test_processed/y_test.npy')\n",
    "\n",
    "# Ahora puedes trabajar con los datos cargados\n",
    "# por ejemplo, imprimir la forma de los conjuntos de datos\n",
    "print('x_train shape:', x_train.shape)\n",
    "print('y_train shape:', y_train.shape)\n",
    "print('x_test shape:', x_test.shape)\n",
    "print('y_test shape:', y_test.shape)\n"
   ]
  },
  {
   "cell_type": "code",
   "execution_count": 10,
   "metadata": {},
   "outputs": [],
   "source": [
    "from función_cargar_dataframe import cargar_dataframe\n",
    "\n"
   ]
  },
  {
   "cell_type": "code",
   "execution_count": 12,
   "metadata": {},
   "outputs": [],
   "source": [
    "ruta = r'C:\\Users\\Usuario\\Downloads'\n",
    "nombre_archivo = 'ImagesV2'\n",
    "\n",
    "df, X, y = cargar_dataframe(ruta, nombre_archivo)"
   ]
  },
  {
   "cell_type": "code",
   "execution_count": 13,
   "metadata": {},
   "outputs": [
    {
     "data": {
      "image/png": "[encoded data removed]",
      "text/plain": [
       "<Figure size 720x432 with 1 Axes>"
      ]
     },
     "metadata": {
      "needs_background": "light"
     },
     "output_type": "display_data"
    }
   ],
   "source": [
    "# Comprobamos si el target está balanceado \n",
    "\n",
    "import matplotlib.pyplot as plt\n",
    "\n",
    "class_counts = df['label'].value_counts()\n",
    "\n",
    "plt.figure(figsize=(10, 6))\n",
    "class_counts.plot(kind='bar')\n",
    "plt.xlabel('Clase')\n",
    "plt.ylabel('Cantidad de instancias')\n",
    "plt.title('Balance de clases')\n",
    "plt.show()"
   ]
  },
  {
   "cell_type": "code",
   "execution_count": 14,
   "metadata": {},
   "outputs": [
    {
     "name": "stdout",
     "output_type": "stream",
     "text": [
      "Series([], dtype: int64)\n"
     ]
    }
   ],
   "source": [
    "# Comprobación de valores faltantes en el DataFrame\n",
    "missing_values = df.isnull().sum()\n",
    "\n",
    "# Mostrar las columnas con valores faltantes\n",
    "columns_with_missing_values = missing_values[missing_values > 0]\n",
    "print(columns_with_missing_values)\n"
   ]
  }
 ],
 "metadata": {
  "kernelspec": {
   "display_name": "Python 3",
   "language": "python",
   "name": "python3"
  },
  "language_info": {
   "codemirror_mode": {
    "name": "ipython",
    "version": 3
   },
   "file_extension": ".py",
   "mimetype": "text/x-python",
   "name": "python",
   "nbconvert_exporter": "python",
   "pygments_lexer": "ipython3",
   "version": "3.9.13"
  },
  "orig_nbformat": 4
 },
 "nbformat": 4,
 "nbformat_minor": 2
}
