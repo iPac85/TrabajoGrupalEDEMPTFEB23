{
 "cells": [
  {
   "cell_type": "code",
   "execution_count": null,
   "metadata": {},
   "outputs": [],
   "source": []
  },
  {
   "attachments": {},
   "cell_type": "markdown",
   "metadata": {},
   "source": [
    "# Procesamiento de datos"
   ]
  },
  {
   "cell_type": "code",
   "execution_count": 8,
   "metadata": {},
   "outputs": [],
   "source": [
    "#import matplotlib.pyplot as plt\n",
    "#from sklearn.model_selection import train_test_split\n",
    "#import numpy as np\n",
    "\n",
    "# Reshape de todas las imágenes\n",
    "# Las imágenes se habían aplanado previamente utilizando image.flatten(). \n",
    "# Al aplicar image.reshape((32, 32)), estamos volviendo a darles una forma de 32x32 píxeles\n",
    "\n",
    "\n",
    "#X_reshaped = np.array([image.reshape((32, 32)) for image in X])\n",
    "\n",
    "# Reshape para ajustar a la forma requerida por train_test_split y el modelo\n",
    "\n",
    "#X_reshaped = X_reshaped.reshape(X_reshaped.shape[0], -1)\n",
    "\n",
    "# Visualizar una imagen de ejemplo después del reshape\n",
    "#plt.imshow(X_reshaped[0].reshape((32, 32)), cmap='Greys')\n",
    "#plt.title('Ejemplo de letra: {}'.format(y[0]))\n",
    "#plt.show()\n",
    "\n",
    "# División de los datos en conjuntos de entrenamiento y prueba\n",
    "#x_train, x_test, y_train, y_test = train_test_split(X_reshaped, y, train_size=0.8, test_size=0.2, random_state=42)\n",
    "\n",
    "# Normalización de los datos\n",
    "# Escalamos los valores de las características en un rango entre 0 y 1\n",
    "#x_train = x_train / 255.0\n",
    "#x_test = x_test / 255.0"
   ]
  },
  {
   "cell_type": "code",
   "execution_count": 1,
   "metadata": {},
   "outputs": [
    {
     "name": "stdout",
     "output_type": "stream",
     "text": [
      "x_train shape: (2579, 1024)\n",
      "y_train shape: (2579,)\n",
      "x_test shape: (645, 1024)\n",
      "y_test shape: (645,)\n"
     ]
    }
   ],
   "source": [
    "import numpy as np\n",
    "\n",
    "# Cargar los datos desde los archivos .npy\n",
    "x_train = np.load('data_train_processed/x_train.npy')\n",
    "y_train = np.load('data_train_processed/y_train.npy')\n",
    "x_test = np.load('data_test_processed/x_test.npy')\n",
    "y_test = np.load('data_test_processed/y_test.npy')\n",
    "\n",
    "# Ahora puedes trabajar con los datos cargados\n",
    "# por ejemplo, imprimir la forma de los conjuntos de datos\n",
    "print('x_train shape:', x_train.shape)\n",
    "print('y_train shape:', y_train.shape)\n",
    "print('x_test shape:', x_test.shape)\n",
    "print('y_test shape:', y_test.shape)"
   ]
  },
  {
   "cell_type": "code",
   "execution_count": null,
   "metadata": {},
   "outputs": [],
   "source": []
  }
 ],
 "metadata": {
  "kernelspec": {
   "display_name": "Python 3",
   "language": "python",
   "name": "python3"
  },
  "language_info": {
   "codemirror_mode": {
    "name": "ipython",
    "version": 3
   },
   "file_extension": ".py",
   "mimetype": "text/x-python",
   "name": "python",
   "nbconvert_exporter": "python",
   "pygments_lexer": "ipython3",
   "version": "3.9.13"
  },
  "orig_nbformat": 4
 },
 "nbformat": 4,
 "nbformat_minor": 2
}
